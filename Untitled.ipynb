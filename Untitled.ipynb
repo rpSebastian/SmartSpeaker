{
 "cells": [
  {
   "cell_type": "code",
   "execution_count": 5,
   "metadata": {},
   "outputs": [
    {
     "name": "stderr",
     "output_type": "stream",
     "text": [
      "/home/rpsebastian/anaconda3/lib/python3.6/site-packages/urllib3/connectionpool.py:858: InsecureRequestWarning: Unverified HTTPS request is being made. Adding certificate verification is strongly advised. See: https://urllib3.readthedocs.io/en/latest/advanced-usage.html#ssl-warnings\n",
      "  InsecureRequestWarning)\n"
     ]
    }
   ],
   "source": [
    "import pickle\n",
    "import requests\n",
    "import re\n",
    "def getStation():\n",
    "    # 12306的城市名和城市代码js文件url\n",
    "    url = 'https://kyfw.12306.cn/otn/resources/js/framework/station_name.js'\n",
    "    r = requests.get(url, verify=False)\n",
    "    pattern = u'([\\u4e00-\\u9fa5]+)\\|([A-Z]+)'\n",
    "    result = re.findall(pattern, r.text)\n",
    "    station = dict(result)  # {'北京北': 'VAP', '北京东': 'BOP', '北京': 'BJP',\n",
    "    return station\n",
    "station = getStation()\n",
    "with open(\"station.file\", \"wb\") as f: #保存dict到文件\n",
    "     pickle.dump(station, f)"
   ]
  },
  {
   "cell_type": "code",
   "execution_count": null,
   "metadata": {},
   "outputs": [],
   "source": []
  }
 ],
 "metadata": {
  "kernelspec": {
   "display_name": "Python 3",
   "language": "python",
   "name": "python3"
  },
  "language_info": {
   "codemirror_mode": {
    "name": "ipython",
    "version": 3
   },
   "file_extension": ".py",
   "mimetype": "text/x-python",
   "name": "python",
   "nbconvert_exporter": "python",
   "pygments_lexer": "ipython3",
   "version": "3.6.5"
  }
 },
 "nbformat": 4,
 "nbformat_minor": 2
}
